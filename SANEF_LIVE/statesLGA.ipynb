{
 "cells": [
  {
   "cell_type": "code",
   "execution_count": null,
   "metadata": {
    "collapsed": false
   },
   "outputs": [
    {
     "name": "stdout",
     "output_type": "stream",
     "text": [
      "True\n"
     ]
    }
   ],
   "source": [
    "import requests, csv\n",
    "\n",
    "# get states\n",
    "# write the states to a file\n",
    "# write the lga to a file\n",
    "# call the states and lga from the files\n",
    "\n",
    "\n",
    "def getStates():\n",
    "    response = requests.get('http://196.6.103.58:8080/agencybankingservice/states')\n",
    "    return response.json()\n",
    "\n",
    "\n",
    "def getLga():\n",
    "    response = requests.get('http://196.6.103.58:8080/agencybankingservice/lga')\n",
    "    return response.json()\n",
    "\n",
    "\n",
    "def writeToFile():\n",
    "    results = getLga()\n",
    "    with open(\"dummyTable.csv\",\"w\") as file:\n",
    "        fieldnames = [\"State\",\"Lga\"]\n",
    "        writer = csv.DictWriter(file, fieldnames=fieldnames)\n",
    "        writer.writeheader()\n",
    "\n",
    "        for result in results: \n",
    "            writer.writerow(\n",
    "                    {'State': result['state'],\n",
    "                     'Lga': result['lga']\n",
    "                    }\n",
    "            )\n",
    "\n",
    "    return True\n",
    "    \n",
    "p = writeToFile()\n",
    "print(p)"
   ]
  },
  {
   "cell_type": "code",
   "execution_count": null,
   "metadata": {},
   "outputs": [],
   "source": [
    ""
   ]
  }
 ],
 "metadata": {
  "kernelspec": {
   "display_name": "Python 3",
   "language": "python",
   "name": "python3"
  },
  "language_info": {
   "codemirror_mode": {
    "name": "ipython",
    "version": 3.0
   },
   "file_extension": ".py",
   "mimetype": "text/x-python",
   "name": "python",
   "nbconvert_exporter": "python",
   "pygments_lexer": "ipython3",
   "version": "3.7.1"
  }
 },
 "nbformat": 4,
 "nbformat_minor": 0
}
