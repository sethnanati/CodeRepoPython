{
 "cells": [
  {
   "cell_type": "code",
   "execution_count": 50,
   "metadata": {},
   "outputs": [
    {
     "name": "stdout",
     "output_type": "stream",
     "text": [
      "look <Crypto.Cipher.AES.AESCipher object at 0x000000000619C630>\n"
     ]
    }
   ],
   "source": [
    "import base64\n",
    "import hashlib\n",
    "from Crypto import Random\n",
    "from Crypto.Cipher import AES\n",
    "\n",
    "\n",
    "class AESCipher(object):\n",
    "\n",
    "    def __init__(self, key, ivkey): \n",
    "        self.bs = 16\n",
    "        self.key = hashlib.sha256(key.encode()).digest()\n",
    "\n",
    "    def encrypt(self):\n",
    "        iv = Random.new().read(AES.block_size)\n",
    "        cipher = AES.new(self.key, AES.MODE_CBC, iv)\n",
    "        return cipher\n",
    "\n",
    "    def decrypt(self, enc):\n",
    "        enc = base64.b64decode(enc)\n",
    "        iv = enc[:AES.block_size]\n",
    "        print(iv)\n",
    "        cipher = AES.new(self.key, AES.MODE_CBC, self.ivkey)\n",
    "        print(cipher)\n",
    "        return self._unpad(cipher.decrypt(enc[AES.block_size:])).decode('utf-8')\n",
    "\n",
    "    def _pad(self, s):\n",
    "        return s + (self.bs - len(s) % self.bs) * chr(self.bs - len(s) % self.bs)\n",
    "\n",
    "    @staticmethod\n",
    "    def _unpad(s):\n",
    "        return s[:-ord(s[len(s)-1:])]\n",
    "    \n",
    "    \n",
    "apikey = ('cNUT1wCSCOc4LrHn').encode(\"utf-8\").hex()\n",
    "ivkey = ('rRYhRCCsa2EWD6l4').encode(\"utf-8\").hex()\n",
    "\n",
    "newKey = AESCipher(apikey,ivkey)\n",
    "print(newKey)\n",
    "\n",
    "\n",
    "\n",
    "\n",
    "\n",
    "\n",
    "\n",
    "\n",
    "\n",
    "\n",
    "\n",
    "\n",
    "\n",
    "\n",
    "\n",
    "\n",
    "\n",
    "\n",
    "\n",
    "\n",
    "\n",
    "\n"
   ]
  },
  {
   "cell_type": "code",
   "execution_count": null,
   "metadata": {},
   "outputs": [],
   "source": []
  },
  {
   "cell_type": "code",
   "execution_count": null,
   "metadata": {},
   "outputs": [],
   "source": []
  }
 ],
 "metadata": {
  "kernelspec": {
   "display_name": "Python 3",
   "language": "python",
   "name": "python3"
  },
  "language_info": {
   "codemirror_mode": {
    "name": "ipython",
    "version": 3
   },
   "file_extension": ".py",
   "mimetype": "text/x-python",
   "name": "python",
   "nbconvert_exporter": "python",
   "pygments_lexer": "ipython3",
   "version": "3.7.1"
  }
 },
 "nbformat": 4,
 "nbformat_minor": 2
}
