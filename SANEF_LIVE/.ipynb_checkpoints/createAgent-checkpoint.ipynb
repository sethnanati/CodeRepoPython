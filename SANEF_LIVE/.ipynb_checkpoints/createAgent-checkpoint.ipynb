{
 "cells": [
  {
   "cell_type": "code",
   "execution_count": 15,
   "metadata": {},
   "outputs": [
    {
     "name": "stdout",
     "output_type": "stream",
     "text": [
      "56680584dbcf891889e73a8500be95c9eeefb73dded04a62d295aba389a3f082ccfc3479d85744c12aea37beec00d91770b1b7d40e563dbd2ea7d578a562b13f494aaf7c5cb3616780308e33e9e6c38b96ba83e3b043ded987ed3cf8b1660f9b0d094b511b75c031821fa15f3c50f9a41f4263bcf62eee26554f408caa5e2bd0329872a0743ba7c7683f09014fad0dbd6726b9d5f9e9a2b57aa1a019c9b79cc1f38b10bef1cfcf40f9be9daaeffc4d24472355f3eb3e48474910aa6612ae6968b7e5c903ce9f3ddace2d6a5a13cad58cb1d43b6b17f6f284cea7eee21a1ff91c33a6252d694dc1f90c10347aa21cc939cfd1af07470e7d07d03648413f691ceed5f2c3afb8eded4b8e22ea193895e7a36dd51f1ede919f2cec32c6d43c78030dacc0f9c7c9c8772cd9c2b13f0138bae35496f4db92355ab04c3507d95b832c36a14417a770a058f3778ee334f649a99ceac3a0c1fa4fb3f06b5eb7e49bdd7574b98c32dcab424a888634832834ccfa953b47d35f12037966a7357f033c5a011a5acc848256183fd1bc30ffe9d8b6f71d464d266493115ae052f48de8398b3b64b779bbe815bf2da4ebfa7300153f76b7ab7598861d46514bc2560d6daa655ed246803c12a26f73b183e38e67186cde46655037ffc0ae6c7257154bbe64f27e1170d53015fac020f108167295c2e2fff491a6467a59464ac90ebcb6f2b7ac209049e8c92974a22b80a5157b1c2a826b37a712faa7cc5e429c2f687a3a82b72cc5b56e1adec8bc32c9434e1819ba44106f\n",
      "{'message': 'The signature method provided is not allowed', 'timestamp': 1551355611256, 'status': '401'}\n"
     ]
    }
   ],
   "source": [
    "import requests\n",
    "import base64\n",
    "from CryptoGate import encrypt\n",
    "\n",
    "passwordkey = ('ZxR6ISbgVf').encode(\"utf-8\")\n",
    "serviceurl = 'http://196.6.103.58:8080/agencybankingservice/api/agents/create'\n",
    "base_data = {\"additionalInfo1\":\"string\", \"additionalInfo2\":\"string\", \"bvn\":\"22222222222\", \"city\":\"Lagos\", \"emailAddress\":\"opium@gmail.com\", \"latitude\":6.6000,\n",
    "            \"longitude\":6.6000, \"lga\":\"Mkpae-Enin\", \"state\":\"Imo\", \"firstName\":\"Theo\", \"lastName\":\"Adebiyi\", \"middleName\":\"Amara\",\n",
    "            \"title\":\"Mr\", \"phoneList\":[ \"0803479108165\"], \"servicesProvided\":[\n",
    "                \"CASH_IN\", \"CASH_OUT\", \"BVN_ENROLLMENT\"    ], \"username\":\"theopeople\",\n",
    "            \"streetNumber\":\"Street Number\", \"streetName\":\"Aguiyi\", \"streetDescription\":\"Behind Excellence Hotel\",\n",
    "            \"ward\":\"xxx\",    \"password\":passwordkey}\n",
    "iCode = '00050'\n",
    "emailaddress = 'CBNAgencyReport@ecobank.com'\n",
    "payload = encrypt(str(base_data))\n",
    "print(payload)\n",
    "\n",
    "Authencrypt = 'iCode:','Afx2oUAk+ZcRBsCB'\n",
    "Signaturecrypt = 'b4934a49a79711bc2bc412a89c3db6beecdebff00ef4eec161003f946b263095'\n",
    "#print(Authencrypt)\n",
    "#print(Signaturecrypt)\n",
    "\n",
    "headers = {\"Authorization\":str(Authencrypt), \"Signature\":str(Signaturecrypt), \"Signature_Meth\":Signaturecrypt,\"Content-Type\": \"application/json\",\n",
    "\"HTTP method\":\"POST\" }\n",
    "response = requests.post(url=serviceurl, json=payload, headers=headers)\n",
    "print(response.json())"
   ]
  },
  {
   "cell_type": "code",
   "execution_count": null,
   "metadata": {},
   "outputs": [],
   "source": []
  }
 ],
 "metadata": {
  "kernelspec": {
   "display_name": "Python 3",
   "language": "python",
   "name": "python3"
  },
  "language_info": {
   "codemirror_mode": {
    "name": "ipython",
    "version": 3
   },
   "file_extension": ".py",
   "mimetype": "text/x-python",
   "name": "python",
   "nbconvert_exporter": "python",
   "pygments_lexer": "ipython3",
   "version": "3.7.1"
  }
 },
 "nbformat": 4,
 "nbformat_minor": 1
}
