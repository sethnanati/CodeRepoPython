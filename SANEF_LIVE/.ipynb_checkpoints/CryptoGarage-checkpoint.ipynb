{
 "cells": [
  {
   "cell_type": "code",
   "execution_count": 10,
   "metadata": {},
   "outputs": [
    {
     "name": "stdout",
     "output_type": "stream",
     "text": [
      "af3ab51f29041c006a5ef8466800e7734194f68f50aa1a324cb1d35559ef5f76c50767682c6101dbfa53a5510ccffa29e082b27988758de6d847318e33e57934bebb1f7e2a20e3c9fc0c76e7afdba707f48f7da3316b0a216d4129a47f4e874ed6d368d350c0ca834afc9189ce9bd4d210420da5c7d03053492e7fb93d4b14dc3dfb94d9b63006f0f759ed6fd166ce39142ff7d42f31ad1e34fc1f8dbb2cce81d3f10b1f683f2a6549a4c6de8205429ce470dc15e8f91e0d0a0c5777d9eacfc889560000a65dbbc2c9c88e5018ca928f465d102a4aae2ad08bfa2d371c94d07a175135cb8e75b91c3f35888a05e1dd0169c2c4fd0c86fba51a19383e354b5beb22d8234a57718f1ab9d962b0854bcc6e4e7a095a8c4145d8d725fce512cce60c4e5ccdbee004b835d95ecd6a14e6f703940e1396ce661e3a2d1bfbce192c1835214d811229de21d477bf7b6a45b19492f0dd16ed26264319a14dfe394666b9e58fca258b9fad46989b4d092625429e9c442b987186e80e6970148c8be0be06c0ce402f38e0d93aa4a42cad290faca398e742872095614f18fc3a4f3463f078a971c487930ed20b92d1850a5e886879e5d7c1a82311ace35f378fc917423aae10b5128fc1f8143a5682fcf130961a8770b5b58e39fac8eb419481dc74c5a3a09f871c823aa43166fc557261597d7f978569fa401a2ce3b698bdd95cb98cd9e3e72795477fd96b2dd242cc64a060f8a2c7c199a8e4553e92fa5ea516b6e3bfb8cd9453232eb19d4813d078ee08fd8941d3\n"
     ]
    }
   ],
   "source": [
    "from Crypto.Cipher import AES\n",
    "import binascii\n",
    "\n",
    "BS = 16\n",
    "pad = lambda s: s + (BS - len(s) % BS) * chr(BS - len(s) % BS)\n",
    "unpad = lambda s: s[0:-ord(s[-1])]\n",
    "\n",
    "# class CryptoGarage:\n",
    "#     def __init__(self, ivkey):\n",
    "#         self.ivkey = ivkey\n",
    "\n",
    "#     def __init__(self, apikey):\n",
    "#         self.apikey = apikey\n",
    "\n",
    "def encrypt(raw):\n",
    "    raw = pad(raw)\n",
    "    # print(raw)\n",
    "    cipher = AES.new(apikey, AES.MODE_CBC, ivkey)\n",
    "    # print(cipher)\n",
    "    encrypted_text = binascii.hexlify(cipher.encrypt(raw))\n",
    "    return encrypted_text.decode('utf-8')  # .upper()\n",
    "\n",
    "\n",
    "def decrypt(enc):\n",
    "    \"\"\"Requires hex encoded param to decrypt\"\"\"\n",
    "    enc = binascii.unhexlify(enc)\n",
    "    cipher = AES.new(apikey, AES.MODE_CBC, ivkey)\n",
    "    decrypt = cipher.decrypt(enc)\n",
    "    decrypted_text = decrypt.decode('utf8')\n",
    "    unpadded = unpad(decrypted_text)\n",
    "    return unpadded\n",
    "\n",
    "\n",
    "# if __name__== \"__main__\":\n",
    "# EXAMPLE USAGE\n",
    "# From the sagepay documentation\n",
    "\n",
    "apikey = 'cNUT1wCSCOc4LrHn'\n",
    "ivkey = 'rRYhRCCsa2EWD6l4'\n",
    "passwordkey = '97s5NYfWUH'\n",
    "\n",
    "base_data2 = {\"additionalInfo1\":\"string\", \"additionalInfo2\":\"string\", \"bvn\":\"22222222222\", \"city\":\"Lagos\", \"emailAddress\":\"opium@gmail.com\", \"latitude\":6.6000,\n",
    "           \"longitude\":6.6000, \"lga\":\"Mkpae-Enin\", \"state\":\"Imo\", \"firstName\":\"Theo\", \"lastName\":\"Adebiyi\", \"middleName\":\"Amara\",\n",
    "           \"title\":\"Mr\", \"phoneList\":[ \"0803479108165\"], \"servicesProvided\":[\n",
    "               \"CASH_IN\", \"CASH_OUT\", \"BVN_ENROLLMENT\"    ], \"username\":\"theopeople\",\n",
    "           \"streetNumber\":\"Street Number\", \"streetName\":\"Aguiyi\", \"streetDescription\":\"Behind Excellence Hotel\",\n",
    "           \"ward\":\"xxx\",    \"password\":passwordkey}\n",
    "\n",
    "base_data = {\"institutionCode\": \"0000007\", \"email\": \"email@provider.com\"}\n",
    "# Encypt the basket data using our key and padding\n",
    "result = encrypt(str(base_data2))\n",
    "print(result)\n",
    "# Post to the url\n",
    "# url = 'https://test.sagepay.com/gateway/service/vspform-register.vsp?VPSProtocol=3.00&TxType=AUTHENTICATE&Vendor=VENDORNAME&Crypt=@' + result\n",
    "# Test the decrypted text is the same as the basket_data\n",
    "#decrypt = decrypt(result)\n",
    "#print(decrypt)"
   ]
  },
  {
   "cell_type": "code",
   "execution_count": null,
   "metadata": {},
   "outputs": [],
   "source": []
  }
 ],
 "metadata": {
  "kernelspec": {
   "display_name": "Python 3",
   "language": "python",
   "name": "python3"
  },
  "language_info": {
   "codemirror_mode": {
    "name": "ipython",
    "version": 3
   },
   "file_extension": ".py",
   "mimetype": "text/x-python",
   "name": "python",
   "nbconvert_exporter": "python",
   "pygments_lexer": "ipython3",
   "version": "3.7.1"
  }
 },
 "nbformat": 4,
 "nbformat_minor": 1
}
