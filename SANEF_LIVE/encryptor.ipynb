{
 "cells": [
  {
   "cell_type": "code",
   "execution_count": null,
   "metadata": {},
   "outputs": [],
   "source": [
    "import base64\n",
    "\n",
    "def encrypt(value_dict):\n",
    "    json_encoded_list = json.dumps(value_dict)\n",
    "    data_byte = json_encoded_list.encode(\"utf-8\")\n",
    "    b64_encoded_list = base64.b64encode(data_byte)\n",
    "    return b64_encoded_list.json()\n",
    "\n",
    "encrypt()\n",
    "\n",
    "def decrypt():\n",
    "    return encrypt(value_dict)"
   ]
  },
  {
   "cell_type": "code",
   "execution_count": 1,
   "metadata": {},
   "outputs": [
    {
     "name": "stdout",
     "output_type": "stream",
     "text": [
      "256: 5e884898da28047151d0e56f8dc6292773603d0d6aabbdd62a11ef721d1542d8\n",
      "512: b109f3bbbc244eb82441917ed06d618b9008dd09b3befd1b5e07394c706a8bb980b1d7785e5976ec049b46df5f1326af5a2ea6d103fd07c95385ffab0cacbc86\n"
     ]
    }
   ],
   "source": [
    "import hashlib\n",
    "\n",
    "var = 'password'\n",
    "data_byte = var.encode(\"utf-8\")\n",
    "hashedWord256 = hashlib.sha256(data_byte).hexdigest()\n",
    "hashedWord512 = hashlib.sha512(data_byte).hexdigest()\n",
    "\n",
    "print(\"256:\", hashedWord256)\n",
    "print(\"512:\", hashedWord512)"
   ]
  },
  {
   "cell_type": "code",
   "execution_count": null,
   "metadata": {},
   "outputs": [],
   "source": [
    ""
   ]
  }
 ],
 "metadata": {
  "kernelspec": {
   "display_name": "Python 3",
   "language": "python",
   "name": "python3"
  },
  "language_info": {
   "codemirror_mode": {
    "name": "ipython",
    "version": 3.0
   },
   "file_extension": ".py",
   "mimetype": "text/x-python",
   "name": "python",
   "nbconvert_exporter": "python",
   "pygments_lexer": "ipython3",
   "version": "3.7.1"
  }
 },
 "nbformat": 4,
 "nbformat_minor": 0
}
